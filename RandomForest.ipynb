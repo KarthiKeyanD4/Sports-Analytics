{
  "nbformat": 4,
  "nbformat_minor": 0,
  "metadata": {
    "colab": {
      "name": "RandomForest.ipynb",
      "provenance": []
    },
    "kernelspec": {
      "name": "python3",
      "display_name": "Python 3"
    },
    "language_info": {
      "name": "python"
    }
  },
  "cells": [
    {
      "cell_type": "code",
      "metadata": {
        "id": "fFHMem6x0zGr"
      },
      "source": [
        "import os\n",
        "import sys\n",
        "import pandas as pd\n",
        "import numpy as np\n",
        "import math\n",
        "import matplotlib.pyplot as plt\n",
        "from sklearn import preprocessing,metrics\n",
        "from sklearn.model_selection import train_test_split, GridSearchCV, RandomizedSearchCV, validation_curve\n",
        "from sklearn.ensemble import RandomForestClassifier,RandomForestRegressor\n",
        "from sklearn.tree import plot_tree"
      ],
      "execution_count": null,
      "outputs": []
    },
    {
      "cell_type": "code",
      "metadata": {
        "id": "32aJLAme2LIr"
      },
      "source": [
        "final_df = pd.read_csv(\"f1_2 (2).csv\")"
      ],
      "execution_count": null,
      "outputs": []
    },
    {
      "cell_type": "code",
      "metadata": {
        "id": "rpD7zSsSUBJZ"
      },
      "source": [
        "def clean_dataset(df):\n",
        "    assert isinstance(df, pd.DataFrame), \"df needs to be a pd.DataFrame\"\n",
        "    df.dropna(inplace=True)\n",
        "    indices_to_keep = ~df.isin([np.nan, np.inf, -np.inf]).any(1)\n",
        "    return df[indices_to_keep].astype(np.float64)"
      ],
      "execution_count": null,
      "outputs": []
    },
    {
      "cell_type": "code",
      "metadata": {
        "id": "JoIH7GVHmwCN"
      },
      "source": [
        "final_df = final_df.iloc[:,3:19]"
      ],
      "execution_count": null,
      "outputs": []
    },
    {
      "cell_type": "code",
      "metadata": {
        "id": "lcdPDzH6VAWD"
      },
      "source": [
        "X = final_df.drop('milliseconds',axis=1)\n",
        "y = final_df['milliseconds']"
      ],
      "execution_count": null,
      "outputs": []
    },
    {
      "cell_type": "code",
      "metadata": {
        "id": "xnHcXSkxcMpE"
      },
      "source": [
        "X = X.apply(pd.to_numeric)"
      ],
      "execution_count": null,
      "outputs": []
    },
    {
      "cell_type": "code",
      "metadata": {
        "id": "ofxxPnek0G1O"
      },
      "source": [
        "y = y.astype('int')"
      ],
      "execution_count": null,
      "outputs": []
    },
    {
      "cell_type": "code",
      "metadata": {
        "id": "NzHPC--rRMdL"
      },
      "source": [
        "X_train, X_test, y_train, y_test = train_test_split(X,y, test_size=0.3)"
      ],
      "execution_count": null,
      "outputs": []
    },
    {
      "cell_type": "code",
      "metadata": {
        "id": "lMChLJsV2bSa"
      },
      "source": [
        "def clean_dataset(df):\n",
        "    assert isinstance(df, pd.DataFrame), \"df needs to be a pd.DataFrame\"\n",
        "    df.dropna(inplace=True)\n",
        "    indices_to_keep = ~df.isin([np.nan, np.inf, -np.inf]).any(1)\n",
        "    return df[indices_to_keep].astype(np.float64)"
      ],
      "execution_count": null,
      "outputs": []
    },
    {
      "cell_type": "code",
      "metadata": {
        "id": "3uchjEP_H82C"
      },
      "source": [
        "# Define the parameter\n",
        "n_estimators = [100, 300, 500, 800, 1200]\n",
        "max_depth = [5, 8, 15, 25, 30]\n",
        "min_samples_split = [2, 5, 10, 15, 100]\n",
        "min_samples_leaf = [1, 2, 5, 10] \n",
        "\n",
        "hyperF = dict(n_estimators = n_estimators, max_depth = max_depth,  \n",
        "              min_samples_split = min_samples_split, \n",
        "             min_samples_leaf = min_samples_leaf)\n"
      ],
      "execution_count": null,
      "outputs": []
    },
    {
      "cell_type": "code",
      "metadata": {
        "id": "cg8X7bvYjM0c"
      },
      "source": [
        "# model creation\n",
        "Random_Classifier = RandomForestClassifier()  "
      ],
      "execution_count": null,
      "outputs": []
    },
    {
      "cell_type": "code",
      "metadata": {
        "id": "u0WZnNvTINRJ"
      },
      "source": [
        "# Grid search for hyperparameter\n",
        "gridF = GridSearchCV(Random_Classifier, hyperF, cv = 3, verbose = 1)"
      ],
      "execution_count": null,
      "outputs": []
    },
    {
      "cell_type": "code",
      "metadata": {
        "id": "Y3sxjk0HriHv",
        "colab": {
          "base_uri": "https://localhost:8080/"
        },
        "outputId": "5a42727f-05a9-4b99-f57c-f1b9c7f62381"
      },
      "source": [
        "# fitting the model\n",
        "gridF.fit(X_train,y_train)"
      ],
      "execution_count": null,
      "outputs": [
        {
          "output_type": "stream",
          "name": "stdout",
          "text": [
            "Fitting 3 folds for each of 500 candidates, totalling 1500 fits\n"
          ]
        },
        {
          "output_type": "stream",
          "name": "stderr",
          "text": [
            "[Parallel(n_jobs=1)]: Using backend SequentialBackend with 1 concurrent workers.\n",
            "[Parallel(n_jobs=1)]: Done 1500 out of 1500 | elapsed: 39.9min finished\n"
          ]
        },
        {
          "output_type": "execute_result",
          "data": {
            "text/plain": [
              "GridSearchCV(cv=3, error_score=nan,\n",
              "             estimator=RandomForestClassifier(bootstrap=True, ccp_alpha=0.0,\n",
              "                                              class_weight=None,\n",
              "                                              criterion='gini', max_depth=None,\n",
              "                                              max_features='auto',\n",
              "                                              max_leaf_nodes=None,\n",
              "                                              max_samples=None,\n",
              "                                              min_impurity_decrease=0.0,\n",
              "                                              min_impurity_split=None,\n",
              "                                              min_samples_leaf=1,\n",
              "                                              min_samples_split=2,\n",
              "                                              min_weight_fraction_leaf=0.0,\n",
              "                                              n_estimators=100, n_jobs=None,\n",
              "                                              oob_score=False,\n",
              "                                              random_state=None, verbose=0,\n",
              "                                              warm_start=False),\n",
              "             iid='deprecated', n_jobs=None,\n",
              "             param_grid={'max_depth': [5, 8, 15, 25, 30],\n",
              "                         'min_samples_leaf': [1, 2, 5, 10],\n",
              "                         'min_samples_split': [2, 5, 10, 15, 100],\n",
              "                         'n_estimators': [100, 300, 500, 800, 1200]},\n",
              "             pre_dispatch='2*n_jobs', refit=True, return_train_score=False,\n",
              "             scoring=None, verbose=1)"
            ]
          },
          "metadata": {},
          "execution_count": 13
        }
      ]
    },
    {
      "cell_type": "code",
      "metadata": {
        "colab": {
          "base_uri": "https://localhost:8080/"
        },
        "id": "-LhjTm5gIiqO",
        "outputId": "34fdf592-b35c-48f7-cd44-754961abaaa4"
      },
      "source": [
        "gridF.best_params_"
      ],
      "execution_count": null,
      "outputs": [
        {
          "output_type": "execute_result",
          "data": {
            "text/plain": [
              "{'max_depth': 30,\n",
              " 'min_samples_leaf': 1,\n",
              " 'min_samples_split': 5,\n",
              " 'n_estimators': 100}"
            ]
          },
          "metadata": {},
          "execution_count": 14
        }
      ]
    },
    {
      "cell_type": "code",
      "metadata": {
        "id": "PdOSFdOMh3fU"
      },
      "source": [
        "# Model with optimal hyperparameter\n",
        "Random_classify_optim = RandomForestClassifier(n_estimators=100,min_samples_leaf=1,min_samples_split=2,max_depth=25)"
      ],
      "execution_count": null,
      "outputs": []
    },
    {
      "cell_type": "code",
      "metadata": {
        "colab": {
          "base_uri": "https://localhost:8080/"
        },
        "id": "aFozyKH5h3iD",
        "outputId": "0fcda151-dcb8-4434-d5a6-144e93c5e6c8"
      },
      "source": [
        "# fitting the model\n",
        "Random_classify_optim.fit(X_train,y_train)"
      ],
      "execution_count": null,
      "outputs": [
        {
          "output_type": "execute_result",
          "data": {
            "text/plain": [
              "RandomForestClassifier(bootstrap=True, ccp_alpha=0.0, class_weight=None,\n",
              "                       criterion='gini', max_depth=25, max_features='auto',\n",
              "                       max_leaf_nodes=None, max_samples=None,\n",
              "                       min_impurity_decrease=0.0, min_impurity_split=None,\n",
              "                       min_samples_leaf=1, min_samples_split=2,\n",
              "                       min_weight_fraction_leaf=0.0, n_estimators=100,\n",
              "                       n_jobs=None, oob_score=False, random_state=None,\n",
              "                       verbose=0, warm_start=False)"
            ]
          },
          "metadata": {},
          "execution_count": 16
        }
      ]
    },
    {
      "cell_type": "code",
      "metadata": {
        "id": "JpWJO6IRkGI6"
      },
      "source": [
        "feat_labels = X_train.columns\n",
        "out_label = final_df.columns"
      ],
      "execution_count": null,
      "outputs": []
    },
    {
      "cell_type": "code",
      "metadata": {
        "id": "WE5cUS3Tyiuu"
      },
      "source": [
        "feature_importance= sorted(zip(Random_classify_optim.feature_importances_, feat_labels), reverse=True)\n",
        "\n",
        "#create two lists from the previous list of tuples\n",
        "df = pd.DataFrame(feature_importance, columns=['importance', 'feature'])\n",
        "importance= list(df['importance'])\n",
        "feature= list(df['feature'])"
      ],
      "execution_count": null,
      "outputs": []
    },
    {
      "cell_type": "code",
      "metadata": {
        "colab": {
          "base_uri": "https://localhost:8080/",
          "height": 204
        },
        "id": "dusy5Ftyzo3f",
        "outputId": "d505d172-593b-4652-96cf-7c5b735ef183"
      },
      "source": [
        "df.head()"
      ],
      "execution_count": null,
      "outputs": [
        {
          "output_type": "execute_result",
          "data": {
            "text/html": [
              "<div>\n",
              "<style scoped>\n",
              "    .dataframe tbody tr th:only-of-type {\n",
              "        vertical-align: middle;\n",
              "    }\n",
              "\n",
              "    .dataframe tbody tr th {\n",
              "        vertical-align: top;\n",
              "    }\n",
              "\n",
              "    .dataframe thead th {\n",
              "        text-align: right;\n",
              "    }\n",
              "</style>\n",
              "<table border=\"1\" class=\"dataframe\">\n",
              "  <thead>\n",
              "    <tr style=\"text-align: right;\">\n",
              "      <th></th>\n",
              "      <th>importance</th>\n",
              "      <th>feature</th>\n",
              "    </tr>\n",
              "  </thead>\n",
              "  <tbody>\n",
              "    <tr>\n",
              "      <th>0</th>\n",
              "      <td>0.220582</td>\n",
              "      <td>time</td>\n",
              "    </tr>\n",
              "    <tr>\n",
              "      <th>1</th>\n",
              "      <td>0.164913</td>\n",
              "      <td>lap</td>\n",
              "    </tr>\n",
              "    <tr>\n",
              "      <th>2</th>\n",
              "      <td>0.089265</td>\n",
              "      <td>stop</td>\n",
              "    </tr>\n",
              "    <tr>\n",
              "      <th>3</th>\n",
              "      <td>0.087944</td>\n",
              "      <td>laps</td>\n",
              "    </tr>\n",
              "    <tr>\n",
              "      <th>4</th>\n",
              "      <td>0.076984</td>\n",
              "      <td>points_y</td>\n",
              "    </tr>\n",
              "  </tbody>\n",
              "</table>\n",
              "</div>"
            ],
            "text/plain": [
              "   importance   feature\n",
              "0    0.220582      time\n",
              "1    0.164913       lap\n",
              "2    0.089265      stop\n",
              "3    0.087944      laps\n",
              "4    0.076984  points_y"
            ]
          },
          "metadata": {},
          "execution_count": 19
        }
      ]
    },
    {
      "cell_type": "code",
      "metadata": {
        "id": "5JLi3widsNo9"
      },
      "source": [
        "# Use the forest's predict method on the test data\n",
        "y_pred = gridF.predict(X_test)"
      ],
      "execution_count": null,
      "outputs": []
    },
    {
      "cell_type": "code",
      "metadata": {
        "id": "OzUzNTan5SfB",
        "colab": {
          "base_uri": "https://localhost:8080/"
        },
        "outputId": "91f4192f-b51e-40a3-dfab-3644057a4391"
      },
      "source": [
        "# accuracy\n",
        "print(\"Accuracy:\",metrics.accuracy_score(y_test, y_pred))"
      ],
      "execution_count": null,
      "outputs": [
        {
          "output_type": "stream",
          "name": "stdout",
          "text": [
            "Accuracy: 0.9814814814814815\n"
          ]
        }
      ]
    },
    {
      "cell_type": "code",
      "metadata": {
        "id": "E2RD1q8KrcRd"
      },
      "source": [
        "no_obdervation = range(1,(len(y_test)+1))"
      ],
      "execution_count": null,
      "outputs": []
    },
    {
      "cell_type": "code",
      "metadata": {
        "colab": {
          "base_uri": "https://localhost:8080/",
          "height": 265
        },
        "id": "ZYePdDPqrCcL",
        "outputId": "ddedc857-0b21-4f9c-dfab-879659fd05e5"
      },
      "source": [
        "plt.plot(no_obdervation, y_test, label = \"Actual Data\",linestyle=\"--\")\n",
        "plt.plot(no_obdervation, y_pred, label = \"Predicted Data\")\n",
        "plt.legend()\n",
        "plt.show()"
      ],
      "execution_count": null,
      "outputs": [
        {
          "output_type": "display_data",
          "data": {
            "image/png": "[encoded data removed]",
            "text/plain": [
              "<Figure size 432x288 with 1 Axes>"
            ]
          },
          "metadata": {
            "needs_background": "light"
          }
        }
      ]
    },
    {
      "cell_type": "code",
      "metadata": {
        "id": "zNHIwHoR3GGo"
      },
      "source": [
        "param_range= n_estimators\n",
        "train_scores, test_scores = validation_curve(\n",
        "                                RandomForestClassifier(),\n",
        "                                X = X_train, y = y_train, \n",
        "                                param_name = 'n_estimators', \n",
        "                                param_range = param_range,cv = 3)"
      ],
      "execution_count": null,
      "outputs": []
    },
    {
      "cell_type": "code",
      "metadata": {
        "colab": {
          "base_uri": "https://localhost:8080/"
        },
        "id": "rGp13fo83GJi",
        "outputId": "5d220b25-360d-4222-fc63-c0dbb6a24a39"
      },
      "source": [
        "#Calculate mean and standard deviation for training set\n",
        "train_mean = np.mean(train_scores, axis=1)\n",
        "train_std = np.std(train_scores, axis=1)\n",
        "\n",
        "#Calculate mean and standard deviation for testing set\n",
        "test_mean = np.mean(test_scores, axis=1)\n",
        "test_std = np.std(test_scores, axis=1)\n",
        "\n",
        "#Plot mean accuracy scores for training and testing sets\n",
        "plt.plot(param_range, train_mean, label=\"Training score\", color=\"black\")\n",
        "plt.plot(param_range, test_mean, label=\"Test score\", color=\"dimgrey\")\n",
        "\n",
        "#Create plot\n",
        "plt.title(\"Validation Curve of N Estimators for Random Forest Classifier\")\n",
        "plt.xlabel(\"Value of N Estimators\")\n",
        "plt.ylabel(\"Accuracy Score\")\n",
        "plt.tight_layout()\n",
        "plt.legend(loc=\"best\")\n",
        "plt.show()"
      ],
      "execution_count": null,
      "outputs": [
        {
          "output_type": "display_data",
          "data": {
            "image/png": "[encoded data removed]",
            "text/plain": [
              "<Figure size 432x288 with 1 Axes>"
            ]
          },
          "metadata": {
            "needs_background": "light"
          }
        }
      ]
    },
    {
      "cell_type": "code",
      "metadata": {
        "id": "l9PfPx5a3GNF"
      },
      "source": [
        "#Plotting the validation curve of training and testing scores for min_samples_split\n",
        "param_range= max_depth\n",
        "train_scores, test_scores = validation_curve(\n",
        "                                RandomForestClassifier(),\n",
        "                                X = X_train, y = y_train, \n",
        "                                param_name = 'max_depth', \n",
        "                                param_range = param_range,cv = 3)"
      ],
      "execution_count": null,
      "outputs": []
    },
    {
      "cell_type": "code",
      "metadata": {
        "colab": {
          "base_uri": "https://localhost:8080/"
        },
        "id": "MDkaCOyu4GdD",
        "outputId": "dc530ba6-e5db-4b6e-9501-e8578280eaf9"
      },
      "source": [
        "#Calculate mean and standard deviation for training set\n",
        "train_mean = np.mean(train_scores, axis=1)\n",
        "train_std = np.std(train_scores, axis=1)\n",
        "\n",
        "#Calculate mean and standard deviation for testing set\n",
        "test_mean = np.mean(test_scores, axis=1)\n",
        "test_std = np.std(test_scores, axis=1)\n",
        "\n",
        "#Plot mean accuracy scores for training and testing sets\n",
        "plt.plot(param_range, train_mean, label=\"Training score\", color=\"black\")\n",
        "plt.plot(param_range, test_mean, label=\"Test score\", color=\"dimgrey\")\n",
        "\n",
        "#Create plot\n",
        "plt.title(\"Validation Curve of Max Depth for Random Forest Classifier\")\n",
        "plt.xlabel(\"Value of Maximum Depth\")\n",
        "plt.ylabel(\"Accuracy Score\")\n",
        "plt.tight_layout()\n",
        "plt.legend(loc=\"best\")\n",
        "plt.show()\n"
      ],
      "execution_count": null,
      "outputs": [
        {
          "output_type": "display_data",
          "data": {
            "image/png": "[encoded data removed]",
            "text/plain": [
              "<Figure size 432x288 with 1 Axes>"
            ]
          },
          "metadata": {
            "needs_background": "light"
          }
        }
      ]
    },
    {
      "cell_type": "code",
      "metadata": {
        "id": "L8ZHCtFc4Gff"
      },
      "source": [
        "param_range= min_samples_split\n",
        "train_scores, test_scores = validation_curve(\n",
        "                                RandomForestClassifier(),\n",
        "                                X = X_train, y = y_train, \n",
        "                                param_name = 'min_samples_split', \n",
        "                                param_range = param_range,cv = 3)"
      ],
      "execution_count": null,
      "outputs": []
    },
    {
      "cell_type": "code",
      "metadata": {
        "colab": {
          "base_uri": "https://localhost:8080/"
        },
        "id": "I_5hr-Ce4Gh5",
        "outputId": "638c74ed-13f4-49c3-fc8c-9d9d15b91a4a"
      },
      "source": [
        "#Calculate mean and standard deviation for training set\n",
        "train_mean = np.mean(train_scores, axis=1)\n",
        "train_std = np.std(train_scores, axis=1)\n",
        "\n",
        "#Calculate mean and standard deviation for testing set\n",
        "test_mean = np.mean(test_scores, axis=1)\n",
        "test_std = np.std(test_scores, axis=1)\n",
        "\n",
        "#Plot mean accuracy scores for training and testing sets\n",
        "plt.plot(param_range, train_mean, label=\"Training score\", color=\"black\")\n",
        "plt.plot(param_range, test_mean, label=\"Test score\", color=\"dimgrey\")\n",
        "\n",
        "#Create plot\n",
        "plt.title(\"Validation Curve of Minimum Sample Split for Random Forest Classifier\")\n",
        "plt.xlabel(\"Value of Minimum Sample Split\")\n",
        "plt.ylabel(\"Accuracy Score\")\n",
        "plt.tight_layout()\n",
        "plt.legend(loc=\"best\")\n",
        "plt.show()"
      ],
      "execution_count": null,
      "outputs": [
        {
          "output_type": "display_data",
          "data": {
            "image/png": "[encoded data removed]",
            "text/plain": [
              "<Figure size 432x288 with 1 Axes>"
            ]
          },
          "metadata": {
            "needs_background": "light"
          }
        }
      ]
    },
    {
      "cell_type": "code",
      "metadata": {
        "id": "lch3226w4GkD"
      },
      "source": [
        "param_range= min_samples_leaf\n",
        "train_scores, test_scores = validation_curve(\n",
        "                                RandomForestClassifier(),\n",
        "                                X = X_train, y = y_train, \n",
        "                                param_name = 'min_samples_leaf', \n",
        "                                param_range = param_range,cv = 3)"
      ],
      "execution_count": null,
      "outputs": []
    },
    {
      "cell_type": "code",
      "metadata": {
        "colab": {
          "base_uri": "https://localhost:8080/"
        },
        "id": "q774M_bF4Gmi",
        "outputId": "c484a488-ded1-446e-887a-11e922b36e21"
      },
      "source": [
        "#Calculate mean and standard deviation for training set\n",
        "train_mean = np.mean(train_scores, axis=1)\n",
        "train_std = np.std(train_scores, axis=1)\n",
        "\n",
        "#Calculate mean and standard deviation for testing set\n",
        "test_mean = np.mean(test_scores, axis=1)\n",
        "test_std = np.std(test_scores, axis=1)\n",
        "\n",
        "#Plot mean accuracy scores for training and testing sets\n",
        "plt.plot(param_range, train_mean, label=\"Training score\", color=\"black\")\n",
        "plt.plot(param_range, test_mean, label=\"Test score\", color=\"dimgrey\")\n",
        "\n",
        "\n",
        "#Create plot\n",
        "plt.title(\"Validation Curve of Minimum Sample Leaf for Random Forest Classifier\")\n",
        "plt.xlabel(\"Value of Minimum Sample Leaf\")\n",
        "plt.ylabel(\"Accuracy Score\")\n",
        "plt.tight_layout()\n",
        "plt.legend(loc=\"best\")\n",
        "plt.show()"
      ],
      "execution_count": null,
      "outputs": [
        {
          "output_type": "display_data",
          "data": {
            "image/png": "[encoded data removed]",
            "text/plain": [
              "<Figure size 432x288 with 1 Axes>"
            ]
          },
          "metadata": {
            "needs_background": "light"
          }
        }
      ]
    },
    {
      "cell_type": "code",
      "metadata": {
        "id": "eE1LgQfbyn8K"
      },
      "source": [
        "estimator = Random_classify_optim.estimators_[5]"
      ],
      "execution_count": null,
      "outputs": []
    },
    {
      "cell_type": "code",
      "metadata": {
        "id": "O8-Oat001zZU"
      },
      "source": [
        "import matplotlib.pyplot as plt\n",
        "import graphviz\n",
        "from sklearn.tree import export_graphviz"
      ],
      "execution_count": null,
      "outputs": []
    },
    {
      "cell_type": "code",
      "metadata": {
        "id": "N3dSMKMw2Re-"
      },
      "source": [
        "dot_data = export_graphviz(estimator, \n",
        "          feature_names=feat_labels,\n",
        "          class_names=out_label[15], \n",
        "          filled=True, impurity=True, \n",
        "          rounded=True)\n",
        "\n",
        "graph = graphviz.Source(dot_data, format='png')"
      ],
      "execution_count": null,
      "outputs": []
    },
    {
      "cell_type": "code",
      "metadata": {
        "colab": {
          "base_uri": "https://localhost:8080/",
          "height": 35
        },
        "id": "CWaT5anaWCOT",
        "outputId": "65651bf3-a537-49cc-b915-8614b4156b97"
      },
      "source": [
        "graph.save('rf_individual.png')"
      ],
      "execution_count": null,
      "outputs": [
        {
          "output_type": "execute_result",
          "data": {
            "application/vnd.google.colaboratory.intrinsic+json": {
              "type": "string"
            },
            "text/plain": [
              "'rf_individual.png'"
            ]
          },
          "metadata": {},
          "execution_count": 40
        }
      ]
    },
    {
      "cell_type": "code",
      "metadata": {
        "colab": {
          "base_uri": "https://localhost:8080/",
          "height": 35
        },
        "id": "ewRc7SLj3E9Q",
        "outputId": "0ca41f99-8304-4b08-e16f-f312539473dd"
      },
      "source": [
        "graph.render('figure_name')"
      ],
      "execution_count": null,
      "outputs": [
        {
          "output_type": "execute_result",
          "data": {
            "application/vnd.google.colaboratory.intrinsic+json": {
              "type": "string"
            },
            "text/plain": [
              "'figure_name.png'"
            ]
          },
          "metadata": {},
          "execution_count": 36
        }
      ]
    },
    {
      "cell_type": "code",
      "metadata": {
        "colab": {
          "base_uri": "https://localhost:8080/",
          "height": 163
        },
        "id": "dXImA0OMnvP9",
        "outputId": "98adb31e-be8f-471d-f23d-b4480dec17e0"
      },
      "source": [
        "pylab.savefig('foo.png')"
      ],
      "execution_count": null,
      "outputs": [
        {
          "output_type": "error",
          "ename": "NameError",
          "evalue": "ignored",
          "traceback": [
            "\u001b[0;31m---------------------------------------------------------------------------\u001b[0m",
            "\u001b[0;31mNameError\u001b[0m                                 Traceback (most recent call last)",
            "\u001b[0;32m<ipython-input-37-1fac8726dab3>\u001b[0m in \u001b[0;36m<module>\u001b[0;34m()\u001b[0m\n\u001b[0;32m----> 1\u001b[0;31m \u001b[0mpylab\u001b[0m\u001b[0;34m.\u001b[0m\u001b[0msavefig\u001b[0m\u001b[0;34m(\u001b[0m\u001b[0;34m'foo.png'\u001b[0m\u001b[0;34m)\u001b[0m\u001b[0;34m\u001b[0m\u001b[0;34m\u001b[0m\u001b[0m\n\u001b[0m",
            "\u001b[0;31mNameError\u001b[0m: name 'pylab' is not defined"
          ]
        }
      ]
    }
  ]
}